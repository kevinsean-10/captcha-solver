{
 "cells": [
  {
   "cell_type": "markdown",
   "metadata": {},
   "source": [
    "# Import Library"
   ]
  },
  {
   "cell_type": "code",
   "execution_count": 1,
   "metadata": {},
   "outputs": [],
   "source": [
    "import pandas as pd\n",
    "import numpy as np\n",
    "import time"
   ]
  },
  {
   "cell_type": "markdown",
   "metadata": {},
   "source": [
    "# Data Preparation"
   ]
  },
  {
   "cell_type": "markdown",
   "metadata": {},
   "source": [
    "## Data Original\n",
    "Random sampling"
   ]
  },
  {
   "cell_type": "code",
   "execution_count": 27,
   "metadata": {},
   "outputs": [
    {
     "data": {
      "text/html": [
       "<div>\n",
       "<style scoped>\n",
       "    .dataframe tbody tr th:only-of-type {\n",
       "        vertical-align: middle;\n",
       "    }\n",
       "\n",
       "    .dataframe tbody tr th {\n",
       "        vertical-align: top;\n",
       "    }\n",
       "\n",
       "    .dataframe thead th {\n",
       "        text-align: right;\n",
       "    }\n",
       "</style>\n",
       "<table border=\"1\" class=\"dataframe\">\n",
       "  <thead>\n",
       "    <tr style=\"text-align: right;\">\n",
       "      <th></th>\n",
       "      <th>DAY</th>\n",
       "      <th>TANGGAL</th>\n",
       "      <th>SESI</th>\n",
       "      <th>NO PLAT</th>\n",
       "      <th>KODE_WILAYAH</th>\n",
       "      <th>NOMOR_KENDARAAN</th>\n",
       "      <th>KODE_BELAKANG</th>\n",
       "      <th>Wilayah</th>\n",
       "      <th>Lingkup</th>\n",
       "    </tr>\n",
       "  </thead>\n",
       "  <tbody>\n",
       "    <tr>\n",
       "      <th>0</th>\n",
       "      <td>1</td>\n",
       "      <td>2024-07-19</td>\n",
       "      <td>PAGI</td>\n",
       "      <td>B 2831 FFO</td>\n",
       "      <td>B</td>\n",
       "      <td>2831</td>\n",
       "      <td>FFO</td>\n",
       "      <td>Kabupaten Bekasi</td>\n",
       "      <td>JABODETABEK</td>\n",
       "    </tr>\n",
       "    <tr>\n",
       "      <th>1</th>\n",
       "      <td>1</td>\n",
       "      <td>2024-07-19</td>\n",
       "      <td>PAGI</td>\n",
       "      <td>B 2701 FFM</td>\n",
       "      <td>B</td>\n",
       "      <td>2701</td>\n",
       "      <td>FFM</td>\n",
       "      <td>Kabupaten Bekasi</td>\n",
       "      <td>JABODETABEK</td>\n",
       "    </tr>\n",
       "    <tr>\n",
       "      <th>2</th>\n",
       "      <td>1</td>\n",
       "      <td>2024-07-19</td>\n",
       "      <td>PAGI</td>\n",
       "      <td>B 1784 EZR</td>\n",
       "      <td>B</td>\n",
       "      <td>1784</td>\n",
       "      <td>EZR</td>\n",
       "      <td>Kota Depok</td>\n",
       "      <td>JABODETABEK</td>\n",
       "    </tr>\n",
       "    <tr>\n",
       "      <th>3</th>\n",
       "      <td>1</td>\n",
       "      <td>2024-07-19</td>\n",
       "      <td>PAGI</td>\n",
       "      <td>B 1462 EML</td>\n",
       "      <td>B</td>\n",
       "      <td>1462</td>\n",
       "      <td>EML</td>\n",
       "      <td>Kota Depok</td>\n",
       "      <td>JABODETABEK</td>\n",
       "    </tr>\n",
       "    <tr>\n",
       "      <th>4</th>\n",
       "      <td>1</td>\n",
       "      <td>2024-07-19</td>\n",
       "      <td>PAGI</td>\n",
       "      <td>B 1242 ZKI</td>\n",
       "      <td>B</td>\n",
       "      <td>1242</td>\n",
       "      <td>ZKI</td>\n",
       "      <td>Kota Depok</td>\n",
       "      <td>JABODETABEK</td>\n",
       "    </tr>\n",
       "    <tr>\n",
       "      <th>5</th>\n",
       "      <td>1</td>\n",
       "      <td>2024-07-19</td>\n",
       "      <td>PAGI</td>\n",
       "      <td>B 2159 KBO</td>\n",
       "      <td>B</td>\n",
       "      <td>2159</td>\n",
       "      <td>KBO</td>\n",
       "      <td>Kota Bekasi</td>\n",
       "      <td>JABODETABEK</td>\n",
       "    </tr>\n",
       "    <tr>\n",
       "      <th>6</th>\n",
       "      <td>1</td>\n",
       "      <td>2024-07-19</td>\n",
       "      <td>PAGI</td>\n",
       "      <td>B 1985 ZUK</td>\n",
       "      <td>B</td>\n",
       "      <td>1985</td>\n",
       "      <td>ZUK</td>\n",
       "      <td>Kota Depok</td>\n",
       "      <td>JABODETABEK</td>\n",
       "    </tr>\n",
       "    <tr>\n",
       "      <th>7</th>\n",
       "      <td>1</td>\n",
       "      <td>2024-07-19</td>\n",
       "      <td>PAGI</td>\n",
       "      <td>F 1275 IB</td>\n",
       "      <td>F</td>\n",
       "      <td>1275</td>\n",
       "      <td>IB</td>\n",
       "      <td>Kabupaten Bogor</td>\n",
       "      <td>JABODETABEK</td>\n",
       "    </tr>\n",
       "    <tr>\n",
       "      <th>8</th>\n",
       "      <td>1</td>\n",
       "      <td>2024-07-19</td>\n",
       "      <td>PAGI</td>\n",
       "      <td>B 1066 EZW</td>\n",
       "      <td>B</td>\n",
       "      <td>1066</td>\n",
       "      <td>EZW</td>\n",
       "      <td>Kota Depok</td>\n",
       "      <td>JABODETABEK</td>\n",
       "    </tr>\n",
       "    <tr>\n",
       "      <th>9</th>\n",
       "      <td>1</td>\n",
       "      <td>2024-07-19</td>\n",
       "      <td>PAGI</td>\n",
       "      <td>F 1266 FBN</td>\n",
       "      <td>F</td>\n",
       "      <td>1266</td>\n",
       "      <td>FBN</td>\n",
       "      <td>Kabupaten Bogor</td>\n",
       "      <td>JABODETABEK</td>\n",
       "    </tr>\n",
       "  </tbody>\n",
       "</table>\n",
       "</div>"
      ],
      "text/plain": [
       "   DAY    TANGGAL  SESI     NO PLAT KODE_WILAYAH  NOMOR_KENDARAAN  \\\n",
       "0    1 2024-07-19  PAGI  B 2831 FFO            B             2831   \n",
       "1    1 2024-07-19  PAGI  B 2701 FFM            B             2701   \n",
       "2    1 2024-07-19  PAGI  B 1784 EZR            B             1784   \n",
       "3    1 2024-07-19  PAGI  B 1462 EML            B             1462   \n",
       "4    1 2024-07-19  PAGI  B 1242 ZKI            B             1242   \n",
       "5    1 2024-07-19  PAGI  B 2159 KBO            B             2159   \n",
       "6    1 2024-07-19  PAGI  B 1985 ZUK            B             1985   \n",
       "7    1 2024-07-19  PAGI   F 1275 IB            F             1275   \n",
       "8    1 2024-07-19  PAGI  B 1066 EZW            B             1066   \n",
       "9    1 2024-07-19  PAGI  F 1266 FBN            F             1266   \n",
       "\n",
       "  KODE_BELAKANG           Wilayah      Lingkup  \n",
       "0           FFO  Kabupaten Bekasi  JABODETABEK  \n",
       "1           FFM  Kabupaten Bekasi  JABODETABEK  \n",
       "2           EZR        Kota Depok  JABODETABEK  \n",
       "3           EML        Kota Depok  JABODETABEK  \n",
       "4           ZKI        Kota Depok  JABODETABEK  \n",
       "5           KBO       Kota Bekasi  JABODETABEK  \n",
       "6           ZUK        Kota Depok  JABODETABEK  \n",
       "7            IB   Kabupaten Bogor  JABODETABEK  \n",
       "8           EZW        Kota Depok  JABODETABEK  \n",
       "9           FBN   Kabupaten Bogor  JABODETABEK  "
      ]
     },
     "execution_count": 27,
     "metadata": {},
     "output_type": "execute_result"
    }
   ],
   "source": [
    "plat_jabar = pd.read_excel(r'sample_data.xlsx',sheet_name='data') # Adjust the directory\n",
    "plat_jabar"
   ]
  },
  {
   "cell_type": "markdown",
   "metadata": {},
   "source": [
    "## Prewebscrape Data"
   ]
  },
  {
   "cell_type": "code",
   "execution_count": 20,
   "metadata": {},
   "outputs": [],
   "source": [
    "# \"\"\"Mencari lokasi plat daerah Jabar\"\"\"\n",
    "# plat_jabar = data_plat.loc[data_plat['Wilayah'].isin([\"Kota Depok\", \"Kabupaten Bekasi\", \"Kota Bekasi\", \"Kota Bogor\", \"Kabupaten Bogor\"])]\n",
    "# plat_jabar.reset_index(drop=True,inplace=True)"
   ]
  },
  {
   "cell_type": "markdown",
   "metadata": {},
   "source": [
    "## Postwebscrape Data"
   ]
  },
  {
   "cell_type": "code",
   "execution_count": 28,
   "metadata": {},
   "outputs": [],
   "source": [
    "col_names = ['Nomor Polisi', 'Warna KB', 'Merek', 'Model', \n",
    "             'Tgl. Jatuh tempo Pajak', 'Tgl. Akhir STNK', \n",
    "             'Tgl. Proses', 'Milik Ke -', 'PKB Pokok', \n",
    "             'PKB Denda', 'SWDKLLJ Pokok', 'SWDKLLJ Denda', \n",
    "             'PNBP STNK', 'PNBP TNKB', 'Total']\n",
    "\n",
    "jabar_data = pd.DataFrame(columns=col_names)\n",
    "# jabar_data = pd.read_excel(\"Data Plat Jabar.xlsx\",sheet_name='Jabar_raw')\n",
    "failed_data = pd.DataFrame(columns=['plat','error'])\n",
    "# failed_data = pd.read_excel(\"Data Plat Jabar.xlsx\",sheet_name='Error')\n",
    "\n"
   ]
  },
  {
   "cell_type": "markdown",
   "metadata": {},
   "source": [
    "# Tools Preparation\n",
    "## Tools for webscraping"
   ]
  },
  {
   "cell_type": "code",
   "execution_count": 32,
   "metadata": {},
   "outputs": [],
   "source": [
    "web = \"https://bapenda.jabarprov.go.id/infopkb/\"\n",
    "path = r\"chromedriver.exe\"\n",
    "buster_path = r'buster.crx'\n",
    "\n",
    "exported_filename = \"Jabar.xlsx\"\n",
    "exported_main_sheetname = \"Data Plat\"\n",
    "exported_error_sheetname = \"Error\""
   ]
  },
  {
   "cell_type": "markdown",
   "metadata": {},
   "source": [
    "# Webscraping Process"
   ]
  },
  {
   "cell_type": "markdown",
   "metadata": {},
   "source": [
    "## Main Iteration"
   ]
  },
  {
   "cell_type": "code",
   "execution_count": 31,
   "metadata": {},
   "outputs": [
    {
     "name": "stdout",
     "output_type": "stream",
     "text": [
      "Message: session not created: This version of ChromeDriver only supports Chrome version 126\n",
      "Current browser version is 128.0.6613.84 with binary path C:\\Program Files\\Google\\Chrome\\Application\\chrome.exe\n",
      "Stacktrace:\n",
      "\tGetHandleVerifier [0x00007FF7F474EEB2+31554]\n",
      "\t(No symbol) [0x00007FF7F46C7EE9]\n",
      "\t(No symbol) [0x00007FF7F458872A]\n",
      "\t(No symbol) [0x00007FF7F45C6ED2]\n",
      "\t(No symbol) [0x00007FF7F45C6008]\n",
      "\t(No symbol) [0x00007FF7F45BFCC8]\n",
      "\t(No symbol) [0x00007FF7F45BBB3B]\n",
      "\t(No symbol) [0x00007FF7F4608794]\n",
      "\t(No symbol) [0x00007FF7F4607DF0]\n",
      "\t(No symbol) [0x00007FF7F45FCDD3]\n",
      "\t(No symbol) [0x00007FF7F45CA33B]\n",
      "\t(No symbol) [0x00007FF7F45CAED1]\n",
      "\tGetHandleVerifier [0x00007FF7F4A58B2D+3217341]\n",
      "\tGetHandleVerifier [0x00007FF7F4AA5AF3+3532675]\n",
      "\tGetHandleVerifier [0x00007FF7F4A9B0F0+3489152]\n",
      "\tGetHandleVerifier [0x00007FF7F47FE786+750614]\n",
      "\t(No symbol) [0x00007FF7F46D376F]\n",
      "\t(No symbol) [0x00007FF7F46CEB24]\n",
      "\t(No symbol) [0x00007FF7F46CECB2]\n",
      "\t(No symbol) [0x00007FF7F46BE17F]\n",
      "\tBaseThreadInitThunk [0x00007FF97B4F257D+29]\n",
      "\tRtlUserThreadStart [0x00007FF97CF4AF28+40]\n",
      "\n"
     ]
    },
    {
     "data": {
      "text/html": [
       "<div>\n",
       "<style scoped>\n",
       "    .dataframe tbody tr th:only-of-type {\n",
       "        vertical-align: middle;\n",
       "    }\n",
       "\n",
       "    .dataframe tbody tr th {\n",
       "        vertical-align: top;\n",
       "    }\n",
       "\n",
       "    .dataframe thead th {\n",
       "        text-align: right;\n",
       "    }\n",
       "</style>\n",
       "<table border=\"1\" class=\"dataframe\">\n",
       "  <thead>\n",
       "    <tr style=\"text-align: right;\">\n",
       "      <th></th>\n",
       "      <th>Nomor Polisi</th>\n",
       "      <th>Warna KB</th>\n",
       "      <th>Merek</th>\n",
       "      <th>Model</th>\n",
       "      <th>Tgl. Jatuh tempo Pajak</th>\n",
       "      <th>Tgl. Akhir STNK</th>\n",
       "      <th>Tgl. Proses</th>\n",
       "      <th>Milik Ke -</th>\n",
       "      <th>PKB Pokok</th>\n",
       "      <th>PKB Denda</th>\n",
       "      <th>SWDKLLJ Pokok</th>\n",
       "      <th>SWDKLLJ Denda</th>\n",
       "      <th>PNBP STNK</th>\n",
       "      <th>PNBP TNKB</th>\n",
       "      <th>Total</th>\n",
       "    </tr>\n",
       "  </thead>\n",
       "  <tbody>\n",
       "  </tbody>\n",
       "</table>\n",
       "</div>"
      ],
      "text/plain": [
       "Empty DataFrame\n",
       "Columns: [Nomor Polisi, Warna KB, Merek, Model, Tgl. Jatuh tempo Pajak, Tgl. Akhir STNK, Tgl. Proses, Milik Ke -, PKB Pokok, PKB Denda, SWDKLLJ Pokok, SWDKLLJ Denda, PNBP STNK, PNBP TNKB, Total]\n",
       "Index: []"
      ]
     },
     "execution_count": 31,
     "metadata": {},
     "output_type": "execute_result"
    }
   ],
   "source": [
    "import Webscrape_Jabar\n",
    "import importlib\n",
    "importlib.reload(Webscrape_Jabar)\n",
    "\n",
    "\n",
    "\"\"\"Import Class from Webscrape_Jakarta custom Library\"\"\"\n",
    "objWeb = Webscrape_Jabar.WebscrapeSamsatJabar(\n",
    "    df_prewebscrape=plat_jabar.iloc[:4,:],\n",
    "    web=web,\n",
    "    col_names_to_scrape=col_names,\n",
    "    chrome_driver_path=path,\n",
    "    buster_path=buster_path,\n",
    "    filename=exported_filename,\n",
    "    main_sheetname=exported_main_sheetname,\n",
    "    error_sheetname=exported_error_sheetname,\n",
    "    df_postwebscrape=jabar_data,\n",
    "    df_failedwebscrape=failed_data\n",
    "    )\n",
    "\n",
    "\"\"\"Main Iteration Webscraping Process\"\"\"\n",
    "objWeb.webscraping(objWeb.df_prewebscrape,nopol_col_id=3,kodedepan_col_id=4,kodetengah_col_id=5,kodebelakang_col_id=6,step=2)\n",
    "\n",
    "\"\"\"Print Result\"\"\"\n",
    "objWeb.df_postwebscrape"
   ]
  },
  {
   "cell_type": "code",
   "execution_count": 7,
   "metadata": {},
   "outputs": [
    {
     "data": {
      "text/html": [
       "<div>\n",
       "<style scoped>\n",
       "    .dataframe tbody tr th:only-of-type {\n",
       "        vertical-align: middle;\n",
       "    }\n",
       "\n",
       "    .dataframe tbody tr th {\n",
       "        vertical-align: top;\n",
       "    }\n",
       "\n",
       "    .dataframe thead th {\n",
       "        text-align: right;\n",
       "    }\n",
       "</style>\n",
       "<table border=\"1\" class=\"dataframe\">\n",
       "  <thead>\n",
       "    <tr style=\"text-align: right;\">\n",
       "      <th></th>\n",
       "      <th>plat</th>\n",
       "      <th>error</th>\n",
       "    </tr>\n",
       "  </thead>\n",
       "  <tbody>\n",
       "    <tr>\n",
       "      <th>0</th>\n",
       "      <td>NaN</td>\n",
       "      <td>NaN</td>\n",
       "    </tr>\n",
       "    <tr>\n",
       "      <th>1</th>\n",
       "      <td>NaN</td>\n",
       "      <td>NaN</td>\n",
       "    </tr>\n",
       "    <tr>\n",
       "      <th>2</th>\n",
       "      <td>B 1784 EZR</td>\n",
       "      <td>Message: \\nStacktrace:\\n\\tGetHandleVerifier [0...</td>\n",
       "    </tr>\n",
       "    <tr>\n",
       "      <th>3</th>\n",
       "      <td>B 1784 EZR</td>\n",
       "      <td>list index out of range</td>\n",
       "    </tr>\n",
       "  </tbody>\n",
       "</table>\n",
       "</div>"
      ],
      "text/plain": [
       "         plat                                              error\n",
       "0         NaN                                                NaN\n",
       "1         NaN                                                NaN\n",
       "2  B 1784 EZR  Message: \\nStacktrace:\\n\\tGetHandleVerifier [0...\n",
       "3  B 1784 EZR                            list index out of range"
      ]
     },
     "execution_count": 7,
     "metadata": {},
     "output_type": "execute_result"
    }
   ],
   "source": [
    "\"\"\"Print Error Awal\"\"\"\n",
    "objWeb.df_failedwebscrape"
   ]
  },
  {
   "cell_type": "markdown",
   "metadata": {},
   "source": [
    "## Error Iteration\n",
    "Repeat till satisfied"
   ]
  },
  {
   "cell_type": "code",
   "execution_count": 8,
   "metadata": {},
   "outputs": [
    {
     "name": "stdout",
     "output_type": "stream",
     "text": [
      "Failed data has 1 entry(ies)\n"
     ]
    },
    {
     "name": "stderr",
     "output_type": "stream",
     "text": [
      "100%|██████████| 1/1 [00:18<00:00, 18.87s/it]1/1 [00:17<00:00, 17.91s/it, errors=1]\n",
      "Processing (Index: 0 -> 0): 100%|██████████| 1/1 [00:18<00:00, 18.88s/it, errors=1]\n"
     ]
    },
    {
     "data": {
      "text/html": [
       "<div>\n",
       "<style scoped>\n",
       "    .dataframe tbody tr th:only-of-type {\n",
       "        vertical-align: middle;\n",
       "    }\n",
       "\n",
       "    .dataframe tbody tr th {\n",
       "        vertical-align: top;\n",
       "    }\n",
       "\n",
       "    .dataframe thead th {\n",
       "        text-align: right;\n",
       "    }\n",
       "</style>\n",
       "<table border=\"1\" class=\"dataframe\">\n",
       "  <thead>\n",
       "    <tr style=\"text-align: right;\">\n",
       "      <th></th>\n",
       "      <th>plat</th>\n",
       "      <th>error</th>\n",
       "    </tr>\n",
       "  </thead>\n",
       "  <tbody>\n",
       "  </tbody>\n",
       "</table>\n",
       "</div>"
      ],
      "text/plain": [
       "Empty DataFrame\n",
       "Columns: [plat, error]\n",
       "Index: []"
      ]
     },
     "execution_count": 8,
     "metadata": {},
     "output_type": "execute_result"
    }
   ],
   "source": [
    "\"\"\"Webscraping Iteration of Error\"\"\"\n",
    "objWeb.failed_iteration(exported_nopol_col_id=0,step=1)\n",
    "\n",
    "\"\"\"Print result\"\"\"\n",
    "objWeb.df_failedwebscrape"
   ]
  },
  {
   "cell_type": "markdown",
   "metadata": {},
   "source": [
    "## Finalization Webscrape Result"
   ]
  },
  {
   "cell_type": "code",
   "execution_count": 9,
   "metadata": {},
   "outputs": [
    {
     "name": "stdout",
     "output_type": "stream",
     "text": [
      "Final Data is saved in Jabar Final.xlsx!\n"
     ]
    },
    {
     "data": {
      "text/html": [
       "<div>\n",
       "<style scoped>\n",
       "    .dataframe tbody tr th:only-of-type {\n",
       "        vertical-align: middle;\n",
       "    }\n",
       "\n",
       "    .dataframe tbody tr th {\n",
       "        vertical-align: top;\n",
       "    }\n",
       "\n",
       "    .dataframe thead th {\n",
       "        text-align: right;\n",
       "    }\n",
       "</style>\n",
       "<table border=\"1\" class=\"dataframe\">\n",
       "  <thead>\n",
       "    <tr style=\"text-align: right;\">\n",
       "      <th></th>\n",
       "      <th>Nomor Polisi</th>\n",
       "      <th>Warna KB</th>\n",
       "      <th>Merek</th>\n",
       "      <th>Model</th>\n",
       "      <th>Tgl. Jatuh tempo Pajak</th>\n",
       "      <th>Tgl. Akhir STNK</th>\n",
       "      <th>Tgl. Proses</th>\n",
       "      <th>Milik Ke -</th>\n",
       "      <th>PKB Pokok</th>\n",
       "      <th>PKB Denda</th>\n",
       "      <th>SWDKLLJ Pokok</th>\n",
       "      <th>SWDKLLJ Denda</th>\n",
       "      <th>PNBP STNK</th>\n",
       "      <th>PNBP TNKB</th>\n",
       "      <th>Total</th>\n",
       "    </tr>\n",
       "  </thead>\n",
       "  <tbody>\n",
       "    <tr>\n",
       "      <th>0</th>\n",
       "      <td>B 2831 FFO</td>\n",
       "      <td>PUTIH</td>\n",
       "      <td>TOYOTA</td>\n",
       "      <td>AGYA 1.2 G A/T</td>\n",
       "      <td>10 Des 2024</td>\n",
       "      <td>10 Des 2025</td>\n",
       "      <td>08 Agu 2024 15:13:29</td>\n",
       "      <td>1</td>\n",
       "      <td>2.241.800</td>\n",
       "      <td>0</td>\n",
       "      <td>143.0</td>\n",
       "      <td>0.0</td>\n",
       "      <td>0</td>\n",
       "      <td>0</td>\n",
       "      <td>2.384.800</td>\n",
       "    </tr>\n",
       "    <tr>\n",
       "      <th>1</th>\n",
       "      <td>B 2701 FFM</td>\n",
       "      <td>HITAM</td>\n",
       "      <td>TOYOTA</td>\n",
       "      <td>AGYA 1.2 G A/T</td>\n",
       "      <td>5 Agu 2022</td>\n",
       "      <td>5 Agu 2025</td>\n",
       "      <td>08 Agu 2024 15:13:36</td>\n",
       "      <td>1</td>\n",
       "      <td>6.725.400</td>\n",
       "      <td>1.703.900</td>\n",
       "      <td>429.0</td>\n",
       "      <td>235.0</td>\n",
       "      <td>0</td>\n",
       "      <td>0</td>\n",
       "      <td>9.093.300</td>\n",
       "    </tr>\n",
       "    <tr>\n",
       "      <th>2</th>\n",
       "      <td>B 1462 EML</td>\n",
       "      <td>HITAM METALIK</td>\n",
       "      <td>TOYOTA</td>\n",
       "      <td>KIJANG INNOVA G AT DIESEL (KUN40R-GKPDHD</td>\n",
       "      <td>24 Mei 2025</td>\n",
       "      <td>24 Mei 2026</td>\n",
       "      <td>08 Agu 2024 15:14:14</td>\n",
       "      <td>1</td>\n",
       "      <td>3.528.000</td>\n",
       "      <td>0</td>\n",
       "      <td>143.0</td>\n",
       "      <td>0.0</td>\n",
       "      <td>0</td>\n",
       "      <td>0</td>\n",
       "      <td>3.671.000</td>\n",
       "    </tr>\n",
       "  </tbody>\n",
       "</table>\n",
       "</div>"
      ],
      "text/plain": [
       "  Nomor Polisi       Warna KB   Merek  \\\n",
       "0   B 2831 FFO          PUTIH  TOYOTA   \n",
       "1   B 2701 FFM          HITAM  TOYOTA   \n",
       "2   B 1462 EML  HITAM METALIK  TOYOTA   \n",
       "\n",
       "                                      Model Tgl. Jatuh tempo Pajak  \\\n",
       "0                            AGYA 1.2 G A/T            10 Des 2024   \n",
       "1                            AGYA 1.2 G A/T             5 Agu 2022   \n",
       "2  KIJANG INNOVA G AT DIESEL (KUN40R-GKPDHD            24 Mei 2025   \n",
       "\n",
       "  Tgl. Akhir STNK           Tgl. Proses  Milik Ke -  PKB Pokok  PKB Denda  \\\n",
       "0     10 Des 2025  08 Agu 2024 15:13:29           1  2.241.800          0   \n",
       "1      5 Agu 2025  08 Agu 2024 15:13:36           1  6.725.400  1.703.900   \n",
       "2     24 Mei 2026  08 Agu 2024 15:14:14           1  3.528.000          0   \n",
       "\n",
       "   SWDKLLJ Pokok  SWDKLLJ Denda  PNBP STNK  PNBP TNKB      Total  \n",
       "0          143.0            0.0          0          0  2.384.800  \n",
       "1          429.0          235.0          0          0  9.093.300  \n",
       "2          143.0            0.0          0          0  3.671.000  "
      ]
     },
     "execution_count": 9,
     "metadata": {},
     "output_type": "execute_result"
    }
   ],
   "source": [
    "objWeb.finishing_data(exported_nopol_col_id=0,\n",
    "                      final_filename=\"Jabar Final.xlsx\",\n",
    "                      final_sheetname=\"Final\")"
   ]
  }
 ],
 "metadata": {
  "kernelspec": {
   "display_name": ".venv",
   "language": "python",
   "name": "python3"
  },
  "language_info": {
   "codemirror_mode": {
    "name": "ipython",
    "version": 3
   },
   "file_extension": ".py",
   "mimetype": "text/x-python",
   "name": "python",
   "nbconvert_exporter": "python",
   "pygments_lexer": "ipython3",
   "version": "3.12.3"
  }
 },
 "nbformat": 4,
 "nbformat_minor": 2
}
