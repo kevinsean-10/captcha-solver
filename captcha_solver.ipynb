{
 "cells": [
  {
   "cell_type": "markdown",
   "metadata": {},
   "source": [
    "Import Library"
   ]
  },
  {
   "cell_type": "code",
   "execution_count": 4,
   "metadata": {},
   "outputs": [],
   "source": [
    "from selenium.webdriver.common.by import By\n",
    "from selenium.webdriver.support.ui import WebDriverWait\n",
    "from selenium.webdriver.support import expected_conditions as EC\n",
    "from selenium.webdriver.common.action_chains import ActionChains\n",
    "from selenium.webdriver.common.keys import Keys\n",
    "import numpy as np\n",
    "import time\n",
    "\n",
    "from selenium import webdriver\n",
    "from selenium.webdriver.firefox.service import Service\n",
    "from selenium.webdriver.firefox.options import Options"
   ]
  },
  {
   "cell_type": "markdown",
   "metadata": {},
   "source": [
    "Function to bypass captcha"
   ]
  },
  {
   "cell_type": "code",
   "execution_count": 5,
   "metadata": {},
   "outputs": [],
   "source": [
    "def click_buster(driver):\n",
    "    \"\"\"Click the buster on reCAPTCHA\"\"\"\n",
    "    shadow_host_locator = (By.XPATH, '//div[@class=\"button-holder help-button-holder\"]')\n",
    "    shadow_host = WebDriverWait(driver, np.random.randint(10)).until(EC.element_to_be_clickable(shadow_host_locator))\n",
    "    shadow_host.click()\n",
    "    action = ActionChains(driver)\n",
    "    action.send_keys(Keys.ENTER).perform()  # Press Enter to activate the button"
   ]
  },
  {
   "cell_type": "markdown",
   "metadata": {},
   "source": [
    "Main Code"
   ]
  },
  {
   "cell_type": "code",
   "execution_count": 6,
   "metadata": {},
   "outputs": [
    {
     "name": "stdout",
     "output_type": "stream",
     "text": [
      "Failed!\n",
      "Message: Browsing context has been discarded\n",
      "Stacktrace:\n",
      "RemoteError@chrome://remote/content/shared/RemoteError.sys.mjs:8:8\n",
      "WebDriverError@chrome://remote/content/shared/webdriver/Errors.sys.mjs:193:5\n",
      "NoSuchWindowError@chrome://remote/content/shared/webdriver/Errors.sys.mjs:679:5\n",
      "assert.that/<@chrome://remote/content/shared/webdriver/Assert.sys.mjs:515:13\n",
      "assert.open@chrome://remote/content/shared/webdriver/Assert.sys.mjs:147:4\n",
      "GeckoDriver.prototype.switchToFrame@chrome://remote/content/marionette/driver.sys.mjs:1387:15\n",
      "despatch@chrome://remote/content/marionette/server.sys.mjs:318:40\n",
      "execute@chrome://remote/content/marionette/server.sys.mjs:289:16\n",
      "onPacket/<@chrome://remote/content/marionette/server.sys.mjs:262:20\n",
      "onPacket@chrome://remote/content/marionette/server.sys.mjs:263:9\n",
      "_onJSONObjectReady/<@chrome://remote/content/marionette/transport.sys.mjs:494:20\n",
      "observe@resource://gre/modules/AsyncShutdown.sys.mjs:569:17\n",
      "\n"
     ]
    },
    {
     "ename": "KeyboardInterrupt",
     "evalue": "",
     "output_type": "error",
     "traceback": [
      "\u001b[1;31m---------------------------------------------------------------------------\u001b[0m",
      "\u001b[1;31mKeyboardInterrupt\u001b[0m                         Traceback (most recent call last)",
      "Cell \u001b[1;32mIn[6], line 63\u001b[0m\n\u001b[0;32m     61\u001b[0m     \u001b[38;5;28mprint\u001b[39m(e)\n\u001b[0;32m     62\u001b[0m \u001b[38;5;28;01mfinally\u001b[39;00m:\n\u001b[1;32m---> 63\u001b[0m     \u001b[43mtime\u001b[49m\u001b[38;5;241;43m.\u001b[39;49m\u001b[43msleep\u001b[49m\u001b[43m(\u001b[49m\u001b[38;5;241;43m5\u001b[39;49m\u001b[43m)\u001b[49m\n\u001b[0;32m     64\u001b[0m     \u001b[38;5;28mprint\u001b[39m(\u001b[38;5;124m\"\u001b[39m\u001b[38;5;124mSuccess\u001b[39m\u001b[38;5;124m\"\u001b[39m)\n\u001b[0;32m     65\u001b[0m     driver\u001b[38;5;241m.\u001b[39mquit()\n",
      "\u001b[1;31mKeyboardInterrupt\u001b[0m: "
     ]
    }
   ],
   "source": [
    "firefox_driver_path = 'geckodriver.exe'\n",
    "\n",
    "options = Options()\n",
    "\n",
    "web = 'https://www.google.com/recaptcha/api2/demo'\n",
    "\n",
    "\n",
    "extension_path = 'buster_captcha_solver-3.1.0.xpi'\n",
    "\n",
    "\"\"\"Create a Firefox WebDriver instance with the default profile\"\"\"\n",
    "service = Service(executable_path=firefox_driver_path)\n",
    "driver = webdriver.Firefox(service=service)\n",
    "\n",
    "\"\"\"Install the extension after starting the session\"\"\"\n",
    "driver.install_addon(extension_path, temporary=True)  # temporary=True if you want to remove it after the session ends\n",
    "\n",
    "\"\"\"Maximize the window (optional)\"\"\"\n",
    "driver.maximize_window()\n",
    "\n",
    "driver.get(web)\n",
    "try:\n",
    "    try:\n",
    "        iframe1 = (By.XPATH, \".//iframe[@title='reCAPTCHA']\") # Recaptcha Title Box\n",
    "\n",
    "        WebDriverWait(driver, 10).until(\n",
    "            EC.frame_to_be_available_and_switch_to_it(iframe1)\n",
    "            )\n",
    "\n",
    "        \"\"\"Click the reCAPTCHA checkbox\"\"\"\n",
    "        recaptcha_checkbox = WebDriverWait(driver, np.random.randint(10)).until(\n",
    "            EC.element_to_be_clickable((By.ID, \"recaptcha-anchor\"))\n",
    "            )\n",
    "        recaptcha_checkbox.click()\n",
    "        time.sleep(1)\n",
    "        driver.switch_to.default_content()\n",
    "        time.sleep(3)\n",
    "        driver.find_element(By.XPATH, '//*[@id=\"recaptcha-demo-submit\"]').click()\n",
    "\n",
    "    except:\n",
    "        driver.switch_to.default_content()\n",
    "\n",
    "        iframe2 = (By.XPATH, \".//iframe[@title='recaptcha challenge expires in two minutes']\") # Recaptcha Challenge Box\n",
    "        WebDriverWait(driver, np.random.randint(4,10)).until(EC.frame_to_be_available_and_switch_to_it(iframe2))\n",
    "\n",
    "        \"\"\"Bypass Captcha\"\"\"\n",
    "        try:\n",
    "            click_buster(driver=driver)\n",
    "        except:\n",
    "            try:\n",
    "                click_buster(driver=driver)\n",
    "            except:\n",
    "                pass\n",
    "\n",
    "        driver.switch_to.default_content()\n",
    "        time.sleep(3)\n",
    "        submit_button = driver.find_element(By.XPATH, '//*[@id=\"recaptcha-demo-submit\"]')\n",
    "        submit_button.click()\n",
    "        time.sleep(3)\n",
    "except Exception as e:\n",
    "    print('Failed!')\n",
    "    print(e)\n",
    "finally:\n",
    "    time.sleep(5)\n",
    "    print(\"Success\")\n",
    "    driver.quit()"
   ]
  }
 ],
 "metadata": {
  "kernelspec": {
   "display_name": "Python 3",
   "language": "python",
   "name": "python3"
  },
  "language_info": {
   "codemirror_mode": {
    "name": "ipython",
    "version": 3
   },
   "file_extension": ".py",
   "mimetype": "text/x-python",
   "name": "python",
   "nbconvert_exporter": "python",
   "pygments_lexer": "ipython3",
   "version": "3.12.3"
  }
 },
 "nbformat": 4,
 "nbformat_minor": 2
}
